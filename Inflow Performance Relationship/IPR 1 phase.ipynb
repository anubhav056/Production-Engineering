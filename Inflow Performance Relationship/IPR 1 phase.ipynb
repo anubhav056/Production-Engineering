{
 "cells": [
  {
   "cell_type": "markdown",
   "id": "b7a018fe-f903-439f-9d0e-c8102828483c",
   "metadata": {
    "tags": []
   },
   "source": [
    "# Inflow Performance Relationship for single phase"
   ]
  },
  {
   "cell_type": "code",
   "execution_count": 47,
   "id": "db793911-8bf6-42c3-99a6-04ca5d2d8ffe",
   "metadata": {},
   "outputs": [],
   "source": [
    "import numpy as np\n",
    "import pandas as pd\n",
    "import matplotlib.pyplot as plt"
   ]
  },
  {
   "cell_type": "code",
   "execution_count": 48,
   "id": "cbc8bf37-eb18-4db7-9f43-7df6d99b38c9",
   "metadata": {},
   "outputs": [
    {
     "name": "stdin",
     "output_type": "stream",
     "text": [
      "Flow rate= 110\n",
      "Flowing bottom-hole pressure= 900\n",
      "Static reservoir pressure= 1300\n"
     ]
    }
   ],
   "source": [
    "Q=float(input('Flow rate=')) #flow rate (STB/Day)\n",
    "Pwf=float(input('Flowing bottom-hole pressure=')) #flowing bottom-hole pressure (psi)\n",
    "Pr=float(input('Static reservoir pressure=')) # static reservoir pressure (psi)"
   ]
  },
  {
   "cell_type": "markdown",
   "id": "4c70015a-ea24-4a0b-a9e2-ae237df9af5e",
   "metadata": {},
   "source": [
    "### Productivity Index<br>\n",
    "#### J=Q/(Pr-Pwf)<br>\n",
    "J=Productivity Index (STB/Day-psi)<br>\n",
    "Q=Flow rate (STB/Day)<br>\n",
    "Pr=Flowing bottom-hole pressure (psi)<br>\n",
    "Pwf=Static reservoir pressure (psi)"
   ]
  },
  {
   "cell_type": "code",
   "execution_count": 49,
   "id": "7adb53b8-cf76-4d42-baf5-39150de11869",
   "metadata": {},
   "outputs": [
    {
     "name": "stdout",
     "output_type": "stream",
     "text": [
      "0.275\n"
     ]
    }
   ],
   "source": [
    "#calucalating productivity index\n",
    "J=Q/(Pr-Pwf) \n",
    "print(J)"
   ]
  },
  {
   "cell_type": "markdown",
   "id": "0dc447a0-d56f-44d1-987a-61e2b0d8280f",
   "metadata": {},
   "source": [
    "## Absolute open hole potential (AOF)\n",
    "AOF=JxPr (STB/Day)"
   ]
  },
  {
   "cell_type": "code",
   "execution_count": 50,
   "id": "8276c688-0376-432e-99a9-2eab5918330e",
   "metadata": {},
   "outputs": [
    {
     "name": "stdout",
     "output_type": "stream",
     "text": [
      "357.50000000000006\n"
     ]
    }
   ],
   "source": [
    "#calculating AOF\n",
    "AOF=J*Pr\n",
    "print(AOF)"
   ]
  },
  {
   "cell_type": "code",
   "execution_count": 51,
   "id": "827e8349-13db-4597-ad25-d0984bad5460",
   "metadata": {},
   "outputs": [
    {
     "name": "stdout",
     "output_type": "stream",
     "text": [
      "    Flowing bottomhole pressure\n",
      "0                          1300\n",
      "1                          1200\n",
      "2                          1100\n",
      "3                          1000\n",
      "4                           900\n",
      "5                           800\n",
      "6                           700\n",
      "7                           600\n",
      "8                           500\n",
      "9                           400\n",
      "10                          300\n",
      "11                          200\n",
      "12                          100\n",
      "13                            0\n"
     ]
    }
   ],
   "source": [
    "df=pd.read_excel('IPR 1.xlsx',) #reading the values of Pwf from excel\n",
    "print(df)"
   ]
  },
  {
   "cell_type": "markdown",
   "id": "46e4c3dd-ac28-4635-9be8-44af59d9387f",
   "metadata": {},
   "source": [
    "## Plotting IPR curve"
   ]
  },
  {
   "cell_type": "code",
   "execution_count": 52,
   "id": "084141bf-b7a8-4e7f-81b5-05ab5afe0cc0",
   "metadata": {},
   "outputs": [
    {
     "name": "stdout",
     "output_type": "stream",
     "text": [
      "0       0.0\n",
      "1      27.5\n",
      "2      55.0\n",
      "3      82.5\n",
      "4     110.0\n",
      "5     137.5\n",
      "6     165.0\n",
      "7     192.5\n",
      "8     220.0\n",
      "9     247.5\n",
      "10    275.0\n",
      "11    302.5\n",
      "12    330.0\n",
      "13    357.5\n",
      "Name: Flowing bottomhole pressure, dtype: float64\n"
     ]
    }
   ],
   "source": [
    "#calculating flow rate for different flowing bottomhole pressure\n",
    "Pwf1=df['Flowing bottomhole pressure']\n",
    "q=J*(Pr-Pwf1)\n",
    "print(q)"
   ]
  },
  {
   "cell_type": "code",
   "execution_count": 57,
   "id": "ae78ac60-4d4f-48f3-92cf-e698157cdbc8",
   "metadata": {},
   "outputs": [
    {
     "data": {
      "image/png": "[encoded data removed]",
      "text/plain": [
       "<Figure size 432x288 with 1 Axes>"
      ]
     },
     "metadata": {
      "needs_background": "light"
     },
     "output_type": "display_data"
    }
   ],
   "source": [
    "plt.plot(q,Pwf1,color='blue',marker='o')\n",
    "plt.xlabel('Q')\n",
    "plt.ylabel('Pwf')\n",
    "plt.title('For single phase')\n",
    "plt.suptitle('Inflow Performance Relationship Curve')\n",
    "plt.show()"
   ]
  }
 ],
 "metadata": {
  "kernelspec": {
   "display_name": "Python 3",
   "language": "python",
   "name": "python3"
  },
  "language_info": {
   "codemirror_mode": {
    "name": "ipython",
    "version": 3
   },
   "file_extension": ".py",
   "mimetype": "text/x-python",
   "name": "python",
   "nbconvert_exporter": "python",
   "pygments_lexer": "ipython3",
   "version": "3.8.8"
  }
 },
 "nbformat": 4,
 "nbformat_minor": 5
}
